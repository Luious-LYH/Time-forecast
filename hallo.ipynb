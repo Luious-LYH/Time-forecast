{
 "cells": [
  {
   "cell_type": "code",
   "execution_count": 1,
   "metadata": {},
   "outputs": [],
   "source": [
    "import numpy as np\n"
   ]
  },
  {
   "cell_type": "code",
   "execution_count": 3,
   "metadata": {},
   "outputs": [
    {
     "name": "stdout",
     "output_type": "stream",
     "text": [
      "一维数组： [1 2 3 4 5]\n",
      "二维数组：\n",
      " [[1 2 3]\n",
      " [4 5 6]]\n",
      "全零二维数组：\n",
      " [[0. 0. 0.]\n",
      " [0. 0. 0.]]\n",
      "全一二维数组：\n",
      " [[1. 1. 1.]\n",
      " [1. 1. 1.]]\n",
      "单位矩阵：\n",
      " [[1. 0. 0.]\n",
      " [0. 1. 0.]\n",
      " [0. 0. 1.]]\n",
      "arr2的形状： (2, 3)\n",
      "arr2的维度： 2\n",
      "arr2元素总数： 6\n",
      "改变形状后的数组：\n",
      " [[ 0  1  2  3]\n",
      " [ 4  5  6  7]\n",
      " [ 8  9 10 11]]\n",
      "数组加法：\n",
      " [ 2  4  6  8 10]\n",
      "数组乘法：\n",
      " [ 1  4  9 16 25]\n"
     ]
    }
   ],
   "source": [
    "import numpy as np\n",
    "# Create a numpy array\n",
    "arr = np.array([1, 2, 3, 4, 5])\n",
    "\n",
    "# Calculate the mean of the array\n",
    "mean = np.mean(arr)\n",
    "# Output: Mean: 3.0\n",
    "print(\"Mean:\", mean)\n",
    "\n",
    "# Calculate the median of the array\n",
    "median = np.median(arr)\n",
    "# Output: Median: 3.0\n",
    "print(\"Median:\", median)\n",
    "\n",
    "# Calculate the standard deviation of the array\n",
    "std_dev = np.std(arr)\n",
    "# Output: Standard Deviation: 1.4142135623730951\n",
    "print(\"Standard Deviation:\", std_dev)\n",
    "\n",
    "# Calculate the variance of the array\n",
    "variance = np.var(arr)\n",
    "# Output: Variance: 2.0\n",
    "print(\"Variance:\", variance)\n",
    "\n",
    "# Calculate the maximum value of the array\n",
    "max_val = np.max(arr)\n",
    "# Output: Maximum Value: 5\n",
    "print(\"Maximum Value:\", max_val)\n",
    "\n",
    "# Calculate the minimum value of the array\n",
    "min_val = np.min(arr)\n",
    "# Output: Minimum Value: 1\n",
    "print(\"Minimum Value:\", min_val)\n"
   ]
  },
  {
   "cell_type": "code",
   "execution_count": null,
   "metadata": {},
   "outputs": [],
   "source": [
    "import numpy as np\n",
    "\n",
    "# Create a NumPy array\n",
    "arr = np.array([1, 2, 3, 4, 5, 6, 7, 8, 9, 10])\n",
    "\n",
    "# Slice the array to get elements from index 2 to index 6 (exclusive)\n",
    "slice1 = arr[2:6]\n",
    "print(\"Slice 1:\", slice1)\n",
    "# Output: Slice 1: [3 4 5 6]\n",
    "\n",
    "# Slice the array to get every second element starting from index 1\n",
    "slice2 = arr[1::2]\n",
    "print(\"Slice 2:\", slice2)\n",
    "# Output: Slice 2: [2 4 6 8 10]\n",
    "\n",
    "# Slice the array to get elements from index 3 to the end\n",
    "slice3 = arr[3:]\n",
    "print(\"Slice 3:\", slice3)\n",
    "# Output: Slice 3: [4 5 6 7 8 9 10]\n",
    "\n",
    "# Slice the array to get elements from the beginning to index 5 (exclusive)\n",
    "slice4 = arr[:5]\n",
    "print(\"Slice 4:\", slice4)\n",
    "# Output: Slice 4: [1 2 3 4 5]\n",
    "\n",
    "# Slice the array to get elements from index -3 to index -1\n",
    "slice5 = arr[-3:-1]\n",
    "print(\"Slice 5:\", slice5)\n",
    "# Output: Slice 5: [8 9]\n"
   ]
  }
 ],
 "metadata": {
  "kernelspec": {
   "display_name": "Time_fore",
   "language": "python",
   "name": "python3"
  },
  "language_info": {
   "codemirror_mode": {
    "name": "ipython",
    "version": 3
   },
   "file_extension": ".py",
   "mimetype": "text/x-python",
   "name": "python",
   "nbconvert_exporter": "python",
   "pygments_lexer": "ipython3",
   "version": "3.9.18"
  }
 },
 "nbformat": 4,
 "nbformat_minor": 2
}
