{
 "cells": [
  {
   "cell_type": "markdown",
   "metadata": {},
   "source": [
    "在深度学习中，数据通常以多维数组（也称为张量）的形式表示。张量的维度通常对应于数据的某种特性。例如，在图像处理中，一个常见的张量格式是（样本数，高度，宽度，通道数），其中样本数是数据集中图像的数量，高度和宽度是图像的像素大小，通道数是颜色通道的数量（例如，RGB图像有3个通道）。\n",
    "\n",
    "对于时间序列数据或自然语言处理，常见的张量格式是（样本数，序列长度，特征数）。样本数是数据集中序列的数量，序列长度是每个序列的时间步长或词数，特征数是每个时间步长或词的特征数量。\n",
    "\n",
    "例如，如果你有一个包含100个序列的数据集，每个序列有10个时间步长，并且每个时间步长有8个特征，那么你的输入数据张量的形状将是（100，10，8）。\n",
    "\n",
    "在准备数据集时，你需要将原始数据转换为这种张量格式，以便可以将其输入到深度学习模型中。这通常涉及到一些预处理步骤，如缩放或标准化特征，填充或截断序列以确保它们的长度相同，以及（对于监督学习任务）将目标变量转换为正确的格式。"
   ]
  },
  {
   "cell_type": "code",
   "execution_count": 3,
   "metadata": {},
   "outputs": [],
   "source": [
    "import pandas as pd\n",
    "import numpy as np\n",
    "import torch"
   ]
  },
  {
   "cell_type": "code",
   "execution_count": 4,
   "metadata": {},
   "outputs": [
    {
     "name": "stdout",
     "output_type": "stream",
     "text": [
      "1.13.1+cu116\n",
      "11.6\n",
      "8302\n",
      "GPU available: True\n"
     ]
    }
   ],
   "source": [
    "# 打印 PyTorch 版本信息\n",
    "print(torch.__version__)\n",
    "\n",
    "# 打印 CUDA 版本\n",
    "print(torch.version.cuda)\n",
    "\n",
    "# 打印 cuDNN 版本\n",
    "print(torch.backends.cudnn.version())\n",
    "\n",
    "# 检查 GPU 是否可用\n",
    "print(\"GPU available:\", torch.cuda.is_available())\n"
   ]
  },
  {
   "cell_type": "markdown",
   "metadata": {},
   "source": [
    "# 时间序列数据"
   ]
  },
  {
   "cell_type": "code",
   "execution_count": 6,
   "metadata": {},
   "outputs": [
    {
     "name": "stdout",
     "output_type": "stream",
     "text": [
      "Looking in indexes: https://mirrors.aliyun.com/pypi/simple\n",
      "Collecting openpyxl\n",
      "  Downloading https://mirrors.aliyun.com/pypi/packages/6a/94/a59521de836ef0da54aaf50da6c4da8fb4072fb3053fa71f052fd9399e7a/openpyxl-3.1.2-py2.py3-none-any.whl (249 kB)\n",
      "     ---------------------------------------- 0.0/250.0 kB ? eta -:--:--\n",
      "     --------- ----------------------------- 61.4/250.0 kB 1.7 MB/s eta 0:00:01\n",
      "     ----------------------------- -------- 194.6/250.0 kB 2.0 MB/s eta 0:00:01\n",
      "     -------------------------------------- 250.0/250.0 kB 1.9 MB/s eta 0:00:00\n",
      "Collecting et-xmlfile (from openpyxl)\n",
      "  Downloading https://mirrors.aliyun.com/pypi/packages/96/c2/3dd434b0108730014f1b96fd286040dc3bcb70066346f7e01ec2ac95865f/et_xmlfile-1.1.0-py3-none-any.whl (4.7 kB)\n",
      "Installing collected packages: et-xmlfile, openpyxl\n",
      "Successfully installed et-xmlfile-1.1.0 openpyxl-3.1.2\n",
      "Note: you may need to restart the kernel to use updated packages.\n"
     ]
    }
   ],
   "source": [
    "%pip install openpyxl"
   ]
  },
  {
   "cell_type": "code",
   "execution_count": 7,
   "metadata": {},
   "outputs": [],
   "source": [
    "# 生成数据\n",
    "# 假设我们有10天的数据，每天24个小时，每个小时有3个特征：'Temperature', 'Humidity', 'WindSpeed'\n",
    "# 我们可以使用numpy的random函数生成这些数据\n",
    "data = np.random.rand(10*24, 3)\n",
    "\n",
    "# 创建数据框\n",
    "df = pd.DataFrame(data, columns=['Temperature', 'Humidity', 'WindSpeed'])\n",
    "\n",
    "# 保存到Excel文件\n",
    "df.to_excel('weather_data.xlsx', index=False)"
   ]
  },
  {
   "cell_type": "markdown",
   "metadata": {},
   "source": [
    "当我们谈论时间序列数据中的\"每个时间步长的特征数\"时，我们是指在每个特定的时间点，我们有多少个不同的测量值或观察值。\n",
    "\n",
    "例如，假设你正在研究天气预报，并且你每小时收集三个数据点：温度、湿度和风速。在这种情况下，你的每个时间步长（每小时）有三个特征。\n",
    "\n",
    "如果你将这些数据整理成一个形状为（样本数，时间步长，特征数）的张量以供深度学习模型使用，那么\"样本数\"可能是你收集的总天数，\"时间步长\"是每天的小时数（例如，24），\"特征数\"则是3（温度、湿度和风速）。\n",
    "\n",
    "所以，如果你收集了10天的数据，你的张量形状将是（10，24，3）。这意味着你有10个样本（每个样本代表一天的数据），每个样本有24个时间步长（每个时间步长代表一小时的数据），每个时间步长有3个特征（温度、湿度和风速）。"
   ]
  },
  {
   "cell_type": "code",
   "execution_count": 11,
   "metadata": {},
   "outputs": [],
   "source": [
    "# 读取Excel文件\n",
    "df = pd.read_excel('weather_data.xlsx')\n",
    "\n",
    "# 将数据框转换为numpy数组\n",
    "data = df.values\n",
    "\n",
    "# 假设你有10天的数据，每天24个小时，每个小时有3个特征\n",
    "# 你需要将数据重塑为（样本数，时间步长，特征数）的形状\n",
    "data = data.reshape((10, 24, 3))\n",
    "\n",
    "# 将numpy数组转换为PyTorch张量\n",
    "tensor = torch.from_numpy(data)\n",
    "\n",
    "print(tensor)"
   ]
  },
  {
   "cell_type": "code",
   "execution_count": null,
   "metadata": {},
   "outputs": [],
   "source": []
  },
  {
   "cell_type": "markdown",
   "metadata": {},
   "source": [
    "在PyTorch中，通常我们会创建一个`Dataset`对象，然后使用`DataLoader`来批量加载和洗牌数据。以下是如何将你的数据转换为`Dataset`和`DataLoader`的步骤：\n",
    "\n",
    "1. 创建一个自定义`Dataset`。这需要定义一个类，该类继承自`torch.utils.data.Dataset`，并实现`__len__`和`__getitem__`方法。\n",
    "\n",
    "2. 使用你的数据创建一个`Dataset`实例。\n",
    "\n",
    "3. 创建一个`DataLoader`，将你的`Dataset`作为输入。\n",
    "\n",
    "以下是一个简单的例子：\n",
    "\n"
   ]
  },
  {
   "cell_type": "code",
   "execution_count": null,
   "metadata": {},
   "outputs": [],
   "source": [
    "from torch.utils.data import Dataset, DataLoader\n",
    "\n",
    "# 读取Excel文件\n",
    "df = pd.read_excel('weather_data.xlsx')\n",
    "\n",
    "# 将数据框转换为numpy数组\n",
    "data = df.values\n",
    "\n",
    "# 假设你有10天的数据，每天24个小时，每个小时有3个特征\n",
    "# 你需要将数据重塑为（样本数，时间步长，特征数）的形状\n",
    "data = data.reshape((10, 24, 3))\n",
    "\n",
    "# 创建自定义Dataset\n",
    "class MyDataset(Dataset):\n",
    "    def __init__(self, data):\n",
    "        self.data = torch.from_numpy(data)\n",
    "\n",
    "    def __getitem__(self, index):\n",
    "        return self.data[index]\n",
    "\n",
    "    def __len__(self):\n",
    "        return len(self.data)\n",
    "\n",
    "# 创建Dataset实例\n",
    "dataset = MyDataset(data)\n",
    "\n",
    "# 创建DataLoader\n",
    "dataloader = DataLoader(dataset, batch_size=2, shuffle=True)\n",
    "\n",
    "# 使用DataLoader\n",
    "for batch in dataloader:\n",
    "    print(batch)"
   ]
  },
  {
   "cell_type": "markdown",
   "metadata": {},
   "source": [
    "\n",
    "\n",
    "在这个例子中，我们首先创建了一个自定义`Dataset`，它只是简单地返回数据的每个元素。然后，我们使用我们的数据创建了一个`Dataset`实例，并创建了一个`DataLoader`，它每次返回2个样本，并在每个epoch开始时随机洗牌数据。"
   ]
  }
 ],
 "metadata": {
  "kernelspec": {
   "display_name": "Time_fore",
   "language": "python",
   "name": "python3"
  },
  "language_info": {
   "codemirror_mode": {
    "name": "ipython",
    "version": 3
   },
   "file_extension": ".py",
   "mimetype": "text/x-python",
   "name": "python",
   "nbconvert_exporter": "python",
   "pygments_lexer": "ipython3",
   "version": "3.9.18"
  }
 },
 "nbformat": 4,
 "nbformat_minor": 2
}
