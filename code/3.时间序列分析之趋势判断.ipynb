{
 "cells": [
  {
   "cell_type": "code",
   "execution_count": 8,
   "metadata": {},
   "outputs": [],
   "source": [
    "import pandas as pd\n",
    "\n",
    "# Read the Excel file\n",
    "excel_file = r'../data/weather_data.xlsx'\n",
    "df = pd.read_excel(excel_file)\n",
    "\n",
    "# Convert to CSV\n",
    "csv_file = r'../data/weather_data.csv'\n",
    "df.to_csv(csv_file, index=False)\n"
   ]
  },
  {
   "cell_type": "code",
   "execution_count": 9,
   "metadata": {},
   "outputs": [
    {
     "data": {
      "text/html": [
       "<div>\n",
       "<style scoped>\n",
       "    .dataframe tbody tr th:only-of-type {\n",
       "        vertical-align: middle;\n",
       "    }\n",
       "\n",
       "    .dataframe tbody tr th {\n",
       "        vertical-align: top;\n",
       "    }\n",
       "\n",
       "    .dataframe thead th {\n",
       "        text-align: right;\n",
       "    }\n",
       "</style>\n",
       "<table border=\"1\" class=\"dataframe\">\n",
       "  <thead>\n",
       "    <tr style=\"text-align: right;\">\n",
       "      <th></th>\n",
       "      <th>Temperature</th>\n",
       "      <th>Humidity</th>\n",
       "      <th>WindSpeed</th>\n",
       "    </tr>\n",
       "  </thead>\n",
       "  <tbody>\n",
       "    <tr>\n",
       "      <th>count</th>\n",
       "      <td>240.000000</td>\n",
       "      <td>240.000000</td>\n",
       "      <td>240.000000</td>\n",
       "    </tr>\n",
       "    <tr>\n",
       "      <th>mean</th>\n",
       "      <td>0.491528</td>\n",
       "      <td>0.478441</td>\n",
       "      <td>0.505711</td>\n",
       "    </tr>\n",
       "    <tr>\n",
       "      <th>std</th>\n",
       "      <td>0.284973</td>\n",
       "      <td>0.301023</td>\n",
       "      <td>0.287859</td>\n",
       "    </tr>\n",
       "    <tr>\n",
       "      <th>min</th>\n",
       "      <td>0.000424</td>\n",
       "      <td>0.000094</td>\n",
       "      <td>0.005566</td>\n",
       "    </tr>\n",
       "    <tr>\n",
       "      <th>25%</th>\n",
       "      <td>0.248846</td>\n",
       "      <td>0.203919</td>\n",
       "      <td>0.278381</td>\n",
       "    </tr>\n",
       "    <tr>\n",
       "      <th>50%</th>\n",
       "      <td>0.503092</td>\n",
       "      <td>0.439261</td>\n",
       "      <td>0.484471</td>\n",
       "    </tr>\n",
       "    <tr>\n",
       "      <th>75%</th>\n",
       "      <td>0.714775</td>\n",
       "      <td>0.740596</td>\n",
       "      <td>0.749073</td>\n",
       "    </tr>\n",
       "    <tr>\n",
       "      <th>max</th>\n",
       "      <td>0.997193</td>\n",
       "      <td>0.999170</td>\n",
       "      <td>0.998797</td>\n",
       "    </tr>\n",
       "  </tbody>\n",
       "</table>\n",
       "</div>"
      ],
      "text/plain": [
       "       Temperature    Humidity   WindSpeed\n",
       "count   240.000000  240.000000  240.000000\n",
       "mean      0.491528    0.478441    0.505711\n",
       "std       0.284973    0.301023    0.287859\n",
       "min       0.000424    0.000094    0.005566\n",
       "25%       0.248846    0.203919    0.278381\n",
       "50%       0.503092    0.439261    0.484471\n",
       "75%       0.714775    0.740596    0.749073\n",
       "max       0.997193    0.999170    0.998797"
      ]
     },
     "metadata": {},
     "output_type": "display_data"
    },
    {
     "name": "stdout",
     "output_type": "stream",
     "text": [
      "--------------------\n"
     ]
    },
    {
     "data": {
      "text/html": [
       "<div>\n",
       "<style scoped>\n",
       "    .dataframe tbody tr th:only-of-type {\n",
       "        vertical-align: middle;\n",
       "    }\n",
       "\n",
       "    .dataframe tbody tr th {\n",
       "        vertical-align: top;\n",
       "    }\n",
       "\n",
       "    .dataframe thead th {\n",
       "        text-align: right;\n",
       "    }\n",
       "</style>\n",
       "<table border=\"1\" class=\"dataframe\">\n",
       "  <thead>\n",
       "    <tr style=\"text-align: right;\">\n",
       "      <th></th>\n",
       "      <th>Temperature</th>\n",
       "      <th>Humidity</th>\n",
       "      <th>WindSpeed</th>\n",
       "    </tr>\n",
       "  </thead>\n",
       "  <tbody>\n",
       "    <tr>\n",
       "      <th>0</th>\n",
       "      <td>0.671452</td>\n",
       "      <td>0.948773</td>\n",
       "      <td>0.357516</td>\n",
       "    </tr>\n",
       "    <tr>\n",
       "      <th>1</th>\n",
       "      <td>0.247266</td>\n",
       "      <td>0.284604</td>\n",
       "      <td>0.952821</td>\n",
       "    </tr>\n",
       "    <tr>\n",
       "      <th>2</th>\n",
       "      <td>0.104597</td>\n",
       "      <td>0.408139</td>\n",
       "      <td>0.618130</td>\n",
       "    </tr>\n",
       "    <tr>\n",
       "      <th>3</th>\n",
       "      <td>0.871093</td>\n",
       "      <td>0.320370</td>\n",
       "      <td>0.195533</td>\n",
       "    </tr>\n",
       "    <tr>\n",
       "      <th>4</th>\n",
       "      <td>0.073969</td>\n",
       "      <td>0.393337</td>\n",
       "      <td>0.904214</td>\n",
       "    </tr>\n",
       "  </tbody>\n",
       "</table>\n",
       "</div>"
      ],
      "text/plain": [
       "   Temperature  Humidity  WindSpeed\n",
       "0     0.671452  0.948773   0.357516\n",
       "1     0.247266  0.284604   0.952821\n",
       "2     0.104597  0.408139   0.618130\n",
       "3     0.871093  0.320370   0.195533\n",
       "4     0.073969  0.393337   0.904214"
      ]
     },
     "metadata": {},
     "output_type": "display_data"
    }
   ],
   "source": [
    "from IPython.display import display\n",
    "display(df.describe())\n",
    "print('-' * 20)\n",
    "display(df.head())\n"
   ]
  },
  {
   "cell_type": "code",
   "execution_count": 10,
   "metadata": {},
   "outputs": [
    {
     "data": {
      "text/plain": [
       "<Axes: >"
      ]
     },
     "execution_count": 10,
     "metadata": {},
     "output_type": "execute_result"
    },
    {
     "data": {
      "image/png": "[encoded data removed]",
      "text/plain": [
       "<Figure size 640x480 with 1 Axes>"
      ]
     },
     "metadata": {},
     "output_type": "display_data"
    }
   ],
   "source": [
    "df_Temperature = df[['Temperature']]\n",
    "df_Temperature.plot()\n"
   ]
  },
  {
   "cell_type": "code",
   "execution_count": 11,
   "metadata": {},
   "outputs": [
    {
     "data": {
      "text/plain": [
       "Temperature    0.671452\n",
       "Name: 0, dtype: float64"
      ]
     },
     "execution_count": 11,
     "metadata": {},
     "output_type": "execute_result"
    }
   ],
   "source": [
    "df_Temperature.iloc[0]"
   ]
  },
  {
   "cell_type": "code",
   "execution_count": 12,
   "metadata": {},
   "outputs": [
    {
     "data": {
      "text/plain": [
       "0.008394645980570088"
      ]
     },
     "execution_count": 12,
     "metadata": {},
     "output_type": "execute_result"
    }
   ],
   "source": [
    "import pandas as pd\n",
    "###方案一：直接统计法 ：标识震荡的幅度，为1时表示单调，越小震荡越大？\n",
    "def direct_statistic(df:pd.DataFrame) -> float:\n",
    "    seqLength=len(df)\n",
    "    S=0\n",
    "    for i in range(1,seqLength):\n",
    "        S +=abs(df.iloc[i,0]-df.iloc[i-1,0])\n",
    "    return abs(df.iloc[seqLength-1,0]-df.iloc[0,0]) / S \n",
    "    \n",
    "direct_statistic(df_Temperature)"
   ]
  },
  {
   "cell_type": "code",
   "execution_count": 24,
   "metadata": {},
   "outputs": [
    {
     "name": "stdout",
     "output_type": "stream",
     "text": [
      "-0.000637222781488655\n"
     ]
    }
   ],
   "source": [
    "###方案二：斜率法（numpy的polyfit：用一个多项式去拟合时间序列变化，若是一次幂，取倒数的第二个系数即为斜率k，y=kx+c）\n",
    "#正数：上升趋势，负数：下降趋势，0：平稳\n",
    "def trendline(index: list, data: pd.DataFrame, order: int = 1) -> float:\n",
    "    coeffs = np.polyfit(index, list(data), order)\n",
    "    slope = coeffs[-2]\n",
    "    return float(slope)\n",
    "\n",
    "resultent = trendline(df_Temperature.index, df_Temperature['Temperature'])\n",
    "print(resultent)"
   ]
  },
  {
   "cell_type": "code",
   "execution_count": 27,
   "metadata": {},
   "outputs": [
    {
     "name": "stdout",
     "output_type": "stream",
     "text": [
      "fall:67, rise:53, p-value:0.235203\n",
      "53\n"
     ]
    },
    {
     "data": {
      "text/plain": [
       "'no trend'"
      ]
     },
     "execution_count": 27,
     "metadata": {},
     "output_type": "execute_result"
    }
   ],
   "source": [
    "#方案三：Cox-Stuart趋势检验\n",
    "#最后就返回p_value把，小于0.05就是显著的，可以判断上升或者下降，大于0.05就是不显著的，默认判断为无趋势\n",
    "import scipy.stats as stats\n",
    "\n",
    "\n",
    "def cos_staut(list_c, debug=True) -> str:\n",
    "    lst = list_c.copy()\n",
    "    raw_len = len(lst)\n",
    "    if raw_len % 2 == 1:\n",
    "        del lst[int((raw_len - 1) / 2)]\n",
    "    c = int(len(lst) / 2)\n",
    "    n_pos = n_neg = 0\n",
    "    for i in range(c):\n",
    "        diff = lst[i + c] - lst[i]\n",
    "        if diff > 0:\n",
    "            n_pos += 1\n",
    "        elif diff < 0:\n",
    "            n_neg += 1\n",
    "        else:\n",
    "            continue\n",
    "    num = n_pos + n_neg\n",
    "    k = min(n_pos, n_neg)\n",
    "    p_value = 2 * stats.binom.cdf(k, num, 0.5)\n",
    "    if debug:\n",
    "        print(\"fall:%i, rise:%i, p-value:%f\" % (n_neg, n_pos, p_value))\n",
    "    print(n_pos)\n",
    "    if n_pos > n_neg and p_value < 0.05:\n",
    "        return \"increasing\"\n",
    "    elif n_neg > n_pos and p_value < 0.05:\n",
    "        return \"decreasing\"\n",
    "    else:\n",
    "        return \"no trend\"\n",
    "\n",
    "cos_staut(df_Temperature['Temperature'])\n",
    "\n"
   ]
  },
  {
   "cell_type": "code",
   "execution_count": 26,
   "metadata": {},
   "outputs": [
    {
     "name": "stdout",
     "output_type": "stream",
     "text": [
      "0.014248239151694042 True\n"
     ]
    },
    {
     "data": {
      "text/plain": [
       "'decreasing'"
      ]
     },
     "execution_count": 26,
     "metadata": {},
     "output_type": "execute_result"
    }
   ],
   "source": [
    "import math\n",
    "\n",
    "from scipy.stats import mstats, norm\n",
    "\n",
    "#MK检验：不要求数据服从正态分布，但是要求数据是独立的\n",
    "#最后就返回p_value把，小于0.05就是显著的，可以判断上升或者下降，大于0.05就是不显著的，默认判断为无趋势\n",
    "def mk_test(x, alpha=0.05) -> str:\n",
    "    n = len(x)\n",
    "\n",
    "    # calculate S\n",
    "    s = 0\n",
    "    for k in range(n - 1):\n",
    "        for j in range(k + 1, n):\n",
    "            s += np.sign(x[j] - x[k])\n",
    "\n",
    "    # calculate the unique data\n",
    "    unique_x, tp = np.unique(x, return_counts=True)\n",
    "    g = len(unique_x)\n",
    "\n",
    "    # calculate the var(s)\n",
    "    if n == g:  # there is no tie\n",
    "        var_s = (n * (n - 1) * (2 * n + 5)) / 18\n",
    "    else:  # there are some ties in data\n",
    "        var_s = (n * (n - 1) * (2 * n + 5) - np.sum(tp * (tp - 1) * (2 * tp + 5))) / 18\n",
    "\n",
    "    if s > 0:\n",
    "        z = (s - 1) / np.sqrt(var_s)\n",
    "    elif s < 0:\n",
    "        z = (s + 1) / np.sqrt(var_s)\n",
    "    else:  # s == 0:\n",
    "        z = 0\n",
    "\n",
    "    # calculate the p_value\n",
    "    p = 2 * (1 - norm.cdf(abs(z)))  # two tail test\n",
    "    h = abs(z) > norm.ppf(1 - alpha / 2)\n",
    "\n",
    "    if (z < 0) and h:\n",
    "        trend = \"decreasing\"\n",
    "    elif (z > 0) and h:\n",
    "        trend = \"increasing\"\n",
    "    else:\n",
    "        trend = \"no trend\"\n",
    "    print(p, h)\n",
    "    return trend\n",
    "mk_test(df_Temperature['Temperature'])"
   ]
  },
  {
   "cell_type": "markdown",
   "metadata": {},
   "source": [
    "# one-hot编码示例"
   ]
  },
  {
   "cell_type": "code",
   "execution_count": 43,
   "metadata": {},
   "outputs": [
    {
     "data": {
      "text/html": [
       "<div>\n",
       "<style scoped>\n",
       "    .dataframe tbody tr th:only-of-type {\n",
       "        vertical-align: middle;\n",
       "    }\n",
       "\n",
       "    .dataframe tbody tr th {\n",
       "        vertical-align: top;\n",
       "    }\n",
       "\n",
       "    .dataframe thead th {\n",
       "        text-align: right;\n",
       "    }\n",
       "</style>\n",
       "<table border=\"1\" class=\"dataframe\">\n",
       "  <thead>\n",
       "    <tr style=\"text-align: right;\">\n",
       "      <th></th>\n",
       "      <th>size</th>\n",
       "      <th>color_blue</th>\n",
       "      <th>color_green</th>\n",
       "      <th>color_red</th>\n",
       "    </tr>\n",
       "  </thead>\n",
       "  <tbody>\n",
       "    <tr>\n",
       "      <th>0</th>\n",
       "      <td>5</td>\n",
       "      <td>0</td>\n",
       "      <td>0</td>\n",
       "      <td>1</td>\n",
       "    </tr>\n",
       "    <tr>\n",
       "      <th>1</th>\n",
       "      <td>6</td>\n",
       "      <td>1</td>\n",
       "      <td>0</td>\n",
       "      <td>0</td>\n",
       "    </tr>\n",
       "    <tr>\n",
       "      <th>2</th>\n",
       "      <td>7</td>\n",
       "      <td>0</td>\n",
       "      <td>1</td>\n",
       "      <td>0</td>\n",
       "    </tr>\n",
       "    <tr>\n",
       "      <th>3</th>\n",
       "      <td>5</td>\n",
       "      <td>0</td>\n",
       "      <td>0</td>\n",
       "      <td>1</td>\n",
       "    </tr>\n",
       "    <tr>\n",
       "      <th>4</th>\n",
       "      <td>6</td>\n",
       "      <td>1</td>\n",
       "      <td>0</td>\n",
       "      <td>0</td>\n",
       "    </tr>\n",
       "  </tbody>\n",
       "</table>\n",
       "</div>"
      ],
      "text/plain": [
       "   size  color_blue  color_green  color_red\n",
       "0     5           0            0          1\n",
       "1     6           1            0          0\n",
       "2     7           0            1          0\n",
       "3     5           0            0          1\n",
       "4     6           1            0          0"
      ]
     },
     "execution_count": 43,
     "metadata": {},
     "output_type": "execute_result"
    }
   ],
   "source": [
    "import pandas as pd\n",
    "\n",
    "# 创建一个包含颜色和尺寸的 DataFrame\n",
    "df = pd.DataFrame({\n",
    "  'color': ['red', 'blue', 'green', 'red', 'blue'],\n",
    "  'size': [5, 6, 7, 5, 6]\n",
    "})\n",
    "df['color'] = df['color'].astype(str)\n",
    "# 使用 get_dummies 函数进行 One-hot 编码\n",
    "df_encoded = pd.get_dummies(df, columns=['color'])\n",
    "df_encoded = df_encoded.astype(int) #将原来的bool类型转换为int\n",
    "df_encoded"
   ]
  }
 ],
 "metadata": {
  "kernelspec": {
   "display_name": "Time_fore",
   "language": "python",
   "name": "python3"
  },
  "language_info": {
   "codemirror_mode": {
    "name": "ipython",
    "version": 3
   },
   "file_extension": ".py",
   "mimetype": "text/x-python",
   "name": "python",
   "nbconvert_exporter": "python",
   "pygments_lexer": "ipython3",
   "version": "3.9.18"
  }
 },
 "nbformat": 4,
 "nbformat_minor": 2
}
